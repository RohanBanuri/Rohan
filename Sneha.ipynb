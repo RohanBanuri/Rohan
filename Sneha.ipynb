{
 "cells": [
  {
   "cell_type": "code",
   "execution_count": 254,
   "id": "03201728-56b3-4964-a81a-71ef7d4392af",
   "metadata": {},
   "outputs": [],
   "source": [
    "#Importing the libraries\n",
    "import pandas as pd\n",
    "import numpy as np\n",
    "from sklearn.model_selection import train_test_split\n",
    "from sklearn.preprocessing import LabelEncoder, StandardScaler\n",
    "from sklearn.ensemble import RandomForestClassifier\n",
    "from sklearn.metrics import classification_report, accuracy_score"
   ]
  },
  {
   "cell_type": "code",
   "execution_count": 255,
   "id": "fd585287-6d7c-4a40-b565-e3a9d755b5b2",
   "metadata": {},
   "outputs": [],
   "source": [
    "#Loading and previewing the dataset\n",
    "data = pd.read_csv(\"index.csv\")"
   ]
  },
  {
   "cell_type": "code",
   "execution_count": 256,
   "id": "2dedee3b-33f5-434a-af84-8258e06a5561",
   "metadata": {},
   "outputs": [
    {
     "data": {
      "text/html": [
       "<div>\n",
       "<style scoped>\n",
       "    .dataframe tbody tr th:only-of-type {\n",
       "        vertical-align: middle;\n",
       "    }\n",
       "\n",
       "    .dataframe tbody tr th {\n",
       "        vertical-align: top;\n",
       "    }\n",
       "\n",
       "    .dataframe thead th {\n",
       "        text-align: right;\n",
       "    }\n",
       "</style>\n",
       "<table border=\"1\" class=\"dataframe\">\n",
       "  <thead>\n",
       "    <tr style=\"text-align: right;\">\n",
       "      <th></th>\n",
       "      <th>date</th>\n",
       "      <th>datetime</th>\n",
       "      <th>cash_type</th>\n",
       "      <th>card</th>\n",
       "      <th>money</th>\n",
       "      <th>coffee_name</th>\n",
       "    </tr>\n",
       "  </thead>\n",
       "  <tbody>\n",
       "    <tr>\n",
       "      <th>0</th>\n",
       "      <td>2024-03-01</td>\n",
       "      <td>2024-03-01 10:15:50.520</td>\n",
       "      <td>card</td>\n",
       "      <td>ANON-0000-0000-0001</td>\n",
       "      <td>38.70</td>\n",
       "      <td>Latte</td>\n",
       "    </tr>\n",
       "    <tr>\n",
       "      <th>1</th>\n",
       "      <td>2024-03-01</td>\n",
       "      <td>2024-03-01 12:19:22.539</td>\n",
       "      <td>card</td>\n",
       "      <td>ANON-0000-0000-0002</td>\n",
       "      <td>38.70</td>\n",
       "      <td>Hot Chocolate</td>\n",
       "    </tr>\n",
       "    <tr>\n",
       "      <th>2</th>\n",
       "      <td>2024-03-01</td>\n",
       "      <td>2024-03-01 12:20:18.089</td>\n",
       "      <td>card</td>\n",
       "      <td>ANON-0000-0000-0002</td>\n",
       "      <td>38.70</td>\n",
       "      <td>Hot Chocolate</td>\n",
       "    </tr>\n",
       "    <tr>\n",
       "      <th>3</th>\n",
       "      <td>2024-03-01</td>\n",
       "      <td>2024-03-01 13:46:33.006</td>\n",
       "      <td>card</td>\n",
       "      <td>ANON-0000-0000-0003</td>\n",
       "      <td>28.90</td>\n",
       "      <td>Americano</td>\n",
       "    </tr>\n",
       "    <tr>\n",
       "      <th>4</th>\n",
       "      <td>2024-03-01</td>\n",
       "      <td>2024-03-01 13:48:14.626</td>\n",
       "      <td>card</td>\n",
       "      <td>ANON-0000-0000-0004</td>\n",
       "      <td>38.70</td>\n",
       "      <td>Latte</td>\n",
       "    </tr>\n",
       "    <tr>\n",
       "      <th>...</th>\n",
       "      <td>...</td>\n",
       "      <td>...</td>\n",
       "      <td>...</td>\n",
       "      <td>...</td>\n",
       "      <td>...</td>\n",
       "      <td>...</td>\n",
       "    </tr>\n",
       "    <tr>\n",
       "      <th>1128</th>\n",
       "      <td>2024-07-31</td>\n",
       "      <td>2024-07-31 20:53:35.077</td>\n",
       "      <td>card</td>\n",
       "      <td>ANON-0000-0000-0443</td>\n",
       "      <td>23.02</td>\n",
       "      <td>Cortado</td>\n",
       "    </tr>\n",
       "    <tr>\n",
       "      <th>1129</th>\n",
       "      <td>2024-07-31</td>\n",
       "      <td>2024-07-31 20:59:25.013</td>\n",
       "      <td>card</td>\n",
       "      <td>ANON-0000-0000-0040</td>\n",
       "      <td>27.92</td>\n",
       "      <td>Americano with Milk</td>\n",
       "    </tr>\n",
       "    <tr>\n",
       "      <th>1130</th>\n",
       "      <td>2024-07-31</td>\n",
       "      <td>2024-07-31 21:26:26.000</td>\n",
       "      <td>card</td>\n",
       "      <td>ANON-0000-0000-0444</td>\n",
       "      <td>32.82</td>\n",
       "      <td>Latte</td>\n",
       "    </tr>\n",
       "    <tr>\n",
       "      <th>1131</th>\n",
       "      <td>2024-07-31</td>\n",
       "      <td>2024-07-31 21:54:11.824</td>\n",
       "      <td>card</td>\n",
       "      <td>ANON-0000-0000-0445</td>\n",
       "      <td>32.82</td>\n",
       "      <td>Latte</td>\n",
       "    </tr>\n",
       "    <tr>\n",
       "      <th>1132</th>\n",
       "      <td>2024-07-31</td>\n",
       "      <td>2024-07-31 21:55:16.570</td>\n",
       "      <td>card</td>\n",
       "      <td>ANON-0000-0000-0446</td>\n",
       "      <td>32.82</td>\n",
       "      <td>Latte</td>\n",
       "    </tr>\n",
       "  </tbody>\n",
       "</table>\n",
       "<p>1133 rows × 6 columns</p>\n",
       "</div>"
      ],
      "text/plain": [
       "            date                 datetime cash_type                 card  \\\n",
       "0     2024-03-01  2024-03-01 10:15:50.520      card  ANON-0000-0000-0001   \n",
       "1     2024-03-01  2024-03-01 12:19:22.539      card  ANON-0000-0000-0002   \n",
       "2     2024-03-01  2024-03-01 12:20:18.089      card  ANON-0000-0000-0002   \n",
       "3     2024-03-01  2024-03-01 13:46:33.006      card  ANON-0000-0000-0003   \n",
       "4     2024-03-01  2024-03-01 13:48:14.626      card  ANON-0000-0000-0004   \n",
       "...          ...                      ...       ...                  ...   \n",
       "1128  2024-07-31  2024-07-31 20:53:35.077      card  ANON-0000-0000-0443   \n",
       "1129  2024-07-31  2024-07-31 20:59:25.013      card  ANON-0000-0000-0040   \n",
       "1130  2024-07-31  2024-07-31 21:26:26.000      card  ANON-0000-0000-0444   \n",
       "1131  2024-07-31  2024-07-31 21:54:11.824      card  ANON-0000-0000-0445   \n",
       "1132  2024-07-31  2024-07-31 21:55:16.570      card  ANON-0000-0000-0446   \n",
       "\n",
       "      money          coffee_name  \n",
       "0     38.70                Latte  \n",
       "1     38.70        Hot Chocolate  \n",
       "2     38.70        Hot Chocolate  \n",
       "3     28.90            Americano  \n",
       "4     38.70                Latte  \n",
       "...     ...                  ...  \n",
       "1128  23.02              Cortado  \n",
       "1129  27.92  Americano with Milk  \n",
       "1130  32.82                Latte  \n",
       "1131  32.82                Latte  \n",
       "1132  32.82                Latte  \n",
       "\n",
       "[1133 rows x 6 columns]"
      ]
     },
     "execution_count": 256,
     "metadata": {},
     "output_type": "execute_result"
    }
   ],
   "source": [
    "data"
   ]
  },
  {
   "cell_type": "code",
   "execution_count": 257,
   "id": "10f2f6d9-7ba2-466c-bc39-ed7c45e222a9",
   "metadata": {},
   "outputs": [
    {
     "name": "stdout",
     "output_type": "stream",
     "text": [
      "First few rows of the dataset:\n",
      "         date                 datetime cash_type                 card  money  \\\n",
      "0  2024-03-01  2024-03-01 10:15:50.520      card  ANON-0000-0000-0001   38.7   \n",
      "1  2024-03-01  2024-03-01 12:19:22.539      card  ANON-0000-0000-0002   38.7   \n",
      "2  2024-03-01  2024-03-01 12:20:18.089      card  ANON-0000-0000-0002   38.7   \n",
      "3  2024-03-01  2024-03-01 13:46:33.006      card  ANON-0000-0000-0003   28.9   \n",
      "4  2024-03-01  2024-03-01 13:48:14.626      card  ANON-0000-0000-0004   38.7   \n",
      "\n",
      "     coffee_name  \n",
      "0          Latte  \n",
      "1  Hot Chocolate  \n",
      "2  Hot Chocolate  \n",
      "3      Americano  \n",
      "4          Latte  \n"
     ]
    }
   ],
   "source": [
    "# Previewing the dataset\n",
    "print(\"First few rows of the dataset:\")\n",
    "print(data.head())"
   ]
  },
  {
   "cell_type": "code",
   "execution_count": 258,
   "id": "78209b31-fb24-439b-bc44-14b72271a774",
   "metadata": {},
   "outputs": [
    {
     "name": "stdout",
     "output_type": "stream",
     "text": [
      "\n",
      "Dataset Information:\n",
      "<class 'pandas.core.frame.DataFrame'>\n",
      "RangeIndex: 1133 entries, 0 to 1132\n",
      "Data columns (total 6 columns):\n",
      " #   Column       Non-Null Count  Dtype  \n",
      "---  ------       --------------  -----  \n",
      " 0   date         1133 non-null   object \n",
      " 1   datetime     1133 non-null   object \n",
      " 2   cash_type    1133 non-null   object \n",
      " 3   card         1044 non-null   object \n",
      " 4   money        1133 non-null   float64\n",
      " 5   coffee_name  1133 non-null   object \n",
      "dtypes: float64(1), object(5)\n",
      "memory usage: 53.2+ KB\n",
      "None\n"
     ]
    }
   ],
   "source": [
    "# Checking dataset information\n",
    "print(\"\\nDataset Information:\")\n",
    "print(data.info())"
   ]
  },
  {
   "cell_type": "code",
   "execution_count": 259,
   "id": "dc786080-56ad-4202-87cf-678782396c42",
   "metadata": {},
   "outputs": [],
   "source": [
    "# Convert Date and DateTime columns to datetime objects\n",
    "data['date'] = pd.to_datetime(data['date'], errors='coerce')\n",
    "data['datetime'] = pd.to_datetime(data['datetime'], errors='coerce')"
   ]
  },
  {
   "cell_type": "code",
   "execution_count": 260,
   "id": "4bc5e38d-7a14-416b-bf92-9cb6c6298605",
   "metadata": {},
   "outputs": [
    {
     "data": {
      "text/plain": [
       "0      2024-03-01\n",
       "1      2024-03-01\n",
       "2      2024-03-01\n",
       "3      2024-03-01\n",
       "4      2024-03-01\n",
       "          ...    \n",
       "1128   2024-07-31\n",
       "1129   2024-07-31\n",
       "1130   2024-07-31\n",
       "1131   2024-07-31\n",
       "1132   2024-07-31\n",
       "Name: date, Length: 1133, dtype: datetime64[ns]"
      ]
     },
     "execution_count": 260,
     "metadata": {},
     "output_type": "execute_result"
    }
   ],
   "source": [
    "data['date']"
   ]
  },
  {
   "cell_type": "code",
   "execution_count": 261,
   "id": "5278c11e-ccb4-4b02-88e3-da758dca869b",
   "metadata": {},
   "outputs": [
    {
     "data": {
      "text/plain": [
       "0      2024-03-01 10:15:50.520\n",
       "1      2024-03-01 12:19:22.539\n",
       "2      2024-03-01 12:20:18.089\n",
       "3      2024-03-01 13:46:33.006\n",
       "4      2024-03-01 13:48:14.626\n",
       "                 ...          \n",
       "1128   2024-07-31 20:53:35.077\n",
       "1129   2024-07-31 20:59:25.013\n",
       "1130   2024-07-31 21:26:26.000\n",
       "1131   2024-07-31 21:54:11.824\n",
       "1132   2024-07-31 21:55:16.570\n",
       "Name: datetime, Length: 1133, dtype: datetime64[ns]"
      ]
     },
     "execution_count": 261,
     "metadata": {},
     "output_type": "execute_result"
    }
   ],
   "source": [
    "data['datetime']"
   ]
  },
  {
   "cell_type": "code",
   "execution_count": 262,
   "id": "9226f5ea-bacc-4a06-a9e9-81dc2573d92e",
   "metadata": {},
   "outputs": [],
   "source": [
    "# Drop rows with invalid or missing datetime values\n",
    "data = data.dropna(subset=['date', 'datetime'])"
   ]
  },
  {
   "cell_type": "code",
   "execution_count": 263,
   "id": "e1b38662-9cbe-4341-8f05-382974b80312",
   "metadata": {},
   "outputs": [
    {
     "data": {
      "text/html": [
       "<div>\n",
       "<style scoped>\n",
       "    .dataframe tbody tr th:only-of-type {\n",
       "        vertical-align: middle;\n",
       "    }\n",
       "\n",
       "    .dataframe tbody tr th {\n",
       "        vertical-align: top;\n",
       "    }\n",
       "\n",
       "    .dataframe thead th {\n",
       "        text-align: right;\n",
       "    }\n",
       "</style>\n",
       "<table border=\"1\" class=\"dataframe\">\n",
       "  <thead>\n",
       "    <tr style=\"text-align: right;\">\n",
       "      <th></th>\n",
       "      <th>date</th>\n",
       "      <th>datetime</th>\n",
       "      <th>cash_type</th>\n",
       "      <th>card</th>\n",
       "      <th>money</th>\n",
       "      <th>coffee_name</th>\n",
       "    </tr>\n",
       "  </thead>\n",
       "  <tbody>\n",
       "    <tr>\n",
       "      <th>0</th>\n",
       "      <td>2024-03-01</td>\n",
       "      <td>2024-03-01 10:15:50.520</td>\n",
       "      <td>card</td>\n",
       "      <td>ANON-0000-0000-0001</td>\n",
       "      <td>38.70</td>\n",
       "      <td>Latte</td>\n",
       "    </tr>\n",
       "    <tr>\n",
       "      <th>1</th>\n",
       "      <td>2024-03-01</td>\n",
       "      <td>2024-03-01 12:19:22.539</td>\n",
       "      <td>card</td>\n",
       "      <td>ANON-0000-0000-0002</td>\n",
       "      <td>38.70</td>\n",
       "      <td>Hot Chocolate</td>\n",
       "    </tr>\n",
       "    <tr>\n",
       "      <th>2</th>\n",
       "      <td>2024-03-01</td>\n",
       "      <td>2024-03-01 12:20:18.089</td>\n",
       "      <td>card</td>\n",
       "      <td>ANON-0000-0000-0002</td>\n",
       "      <td>38.70</td>\n",
       "      <td>Hot Chocolate</td>\n",
       "    </tr>\n",
       "    <tr>\n",
       "      <th>3</th>\n",
       "      <td>2024-03-01</td>\n",
       "      <td>2024-03-01 13:46:33.006</td>\n",
       "      <td>card</td>\n",
       "      <td>ANON-0000-0000-0003</td>\n",
       "      <td>28.90</td>\n",
       "      <td>Americano</td>\n",
       "    </tr>\n",
       "    <tr>\n",
       "      <th>4</th>\n",
       "      <td>2024-03-01</td>\n",
       "      <td>2024-03-01 13:48:14.626</td>\n",
       "      <td>card</td>\n",
       "      <td>ANON-0000-0000-0004</td>\n",
       "      <td>38.70</td>\n",
       "      <td>Latte</td>\n",
       "    </tr>\n",
       "    <tr>\n",
       "      <th>...</th>\n",
       "      <td>...</td>\n",
       "      <td>...</td>\n",
       "      <td>...</td>\n",
       "      <td>...</td>\n",
       "      <td>...</td>\n",
       "      <td>...</td>\n",
       "    </tr>\n",
       "    <tr>\n",
       "      <th>1128</th>\n",
       "      <td>2024-07-31</td>\n",
       "      <td>2024-07-31 20:53:35.077</td>\n",
       "      <td>card</td>\n",
       "      <td>ANON-0000-0000-0443</td>\n",
       "      <td>23.02</td>\n",
       "      <td>Cortado</td>\n",
       "    </tr>\n",
       "    <tr>\n",
       "      <th>1129</th>\n",
       "      <td>2024-07-31</td>\n",
       "      <td>2024-07-31 20:59:25.013</td>\n",
       "      <td>card</td>\n",
       "      <td>ANON-0000-0000-0040</td>\n",
       "      <td>27.92</td>\n",
       "      <td>Americano with Milk</td>\n",
       "    </tr>\n",
       "    <tr>\n",
       "      <th>1130</th>\n",
       "      <td>2024-07-31</td>\n",
       "      <td>2024-07-31 21:26:26.000</td>\n",
       "      <td>card</td>\n",
       "      <td>ANON-0000-0000-0444</td>\n",
       "      <td>32.82</td>\n",
       "      <td>Latte</td>\n",
       "    </tr>\n",
       "    <tr>\n",
       "      <th>1131</th>\n",
       "      <td>2024-07-31</td>\n",
       "      <td>2024-07-31 21:54:11.824</td>\n",
       "      <td>card</td>\n",
       "      <td>ANON-0000-0000-0445</td>\n",
       "      <td>32.82</td>\n",
       "      <td>Latte</td>\n",
       "    </tr>\n",
       "    <tr>\n",
       "      <th>1132</th>\n",
       "      <td>2024-07-31</td>\n",
       "      <td>2024-07-31 21:55:16.570</td>\n",
       "      <td>card</td>\n",
       "      <td>ANON-0000-0000-0446</td>\n",
       "      <td>32.82</td>\n",
       "      <td>Latte</td>\n",
       "    </tr>\n",
       "  </tbody>\n",
       "</table>\n",
       "<p>1133 rows × 6 columns</p>\n",
       "</div>"
      ],
      "text/plain": [
       "           date                datetime cash_type                 card  money  \\\n",
       "0    2024-03-01 2024-03-01 10:15:50.520      card  ANON-0000-0000-0001  38.70   \n",
       "1    2024-03-01 2024-03-01 12:19:22.539      card  ANON-0000-0000-0002  38.70   \n",
       "2    2024-03-01 2024-03-01 12:20:18.089      card  ANON-0000-0000-0002  38.70   \n",
       "3    2024-03-01 2024-03-01 13:46:33.006      card  ANON-0000-0000-0003  28.90   \n",
       "4    2024-03-01 2024-03-01 13:48:14.626      card  ANON-0000-0000-0004  38.70   \n",
       "...         ...                     ...       ...                  ...    ...   \n",
       "1128 2024-07-31 2024-07-31 20:53:35.077      card  ANON-0000-0000-0443  23.02   \n",
       "1129 2024-07-31 2024-07-31 20:59:25.013      card  ANON-0000-0000-0040  27.92   \n",
       "1130 2024-07-31 2024-07-31 21:26:26.000      card  ANON-0000-0000-0444  32.82   \n",
       "1131 2024-07-31 2024-07-31 21:54:11.824      card  ANON-0000-0000-0445  32.82   \n",
       "1132 2024-07-31 2024-07-31 21:55:16.570      card  ANON-0000-0000-0446  32.82   \n",
       "\n",
       "              coffee_name  \n",
       "0                   Latte  \n",
       "1           Hot Chocolate  \n",
       "2           Hot Chocolate  \n",
       "3               Americano  \n",
       "4                   Latte  \n",
       "...                   ...  \n",
       "1128              Cortado  \n",
       "1129  Americano with Milk  \n",
       "1130                Latte  \n",
       "1131                Latte  \n",
       "1132                Latte  \n",
       "\n",
       "[1133 rows x 6 columns]"
      ]
     },
     "execution_count": 263,
     "metadata": {},
     "output_type": "execute_result"
    }
   ],
   "source": [
    "data"
   ]
  },
  {
   "cell_type": "code",
   "execution_count": 264,
   "id": "3e03b05c-9950-4abf-8088-02a0dc529e52",
   "metadata": {},
   "outputs": [],
   "source": [
    "# Fill missing values in other columns\n",
    "data['cash_type'] = data['cash_type'].fillna('Unknown')\n",
    "data['card'] = data['card'].fillna(0)  # Assuming 0 for no card transaction\n",
    "data['money'] = data['money'].fillna(data['money'].median())\n",
    "data['coffee_name'] = data['coffee_name'].fillna('Unknown')"
   ]
  },
  {
   "cell_type": "code",
   "execution_count": 265,
   "id": "c146f6dc-6a4b-4f6d-9837-6455125bc09c",
   "metadata": {},
   "outputs": [
    {
     "data": {
      "text/plain": [
       "0       card\n",
       "1       card\n",
       "2       card\n",
       "3       card\n",
       "4       card\n",
       "        ... \n",
       "1128    card\n",
       "1129    card\n",
       "1130    card\n",
       "1131    card\n",
       "1132    card\n",
       "Name: cash_type, Length: 1133, dtype: object"
      ]
     },
     "execution_count": 265,
     "metadata": {},
     "output_type": "execute_result"
    }
   ],
   "source": [
    "data['cash_type']"
   ]
  },
  {
   "cell_type": "code",
   "execution_count": 266,
   "id": "9c8e0ee6-f2f9-4360-be13-ab8df4363e91",
   "metadata": {},
   "outputs": [
    {
     "data": {
      "text/plain": [
       "0       ANON-0000-0000-0001\n",
       "1       ANON-0000-0000-0002\n",
       "2       ANON-0000-0000-0002\n",
       "3       ANON-0000-0000-0003\n",
       "4       ANON-0000-0000-0004\n",
       "               ...         \n",
       "1128    ANON-0000-0000-0443\n",
       "1129    ANON-0000-0000-0040\n",
       "1130    ANON-0000-0000-0444\n",
       "1131    ANON-0000-0000-0445\n",
       "1132    ANON-0000-0000-0446\n",
       "Name: card, Length: 1133, dtype: object"
      ]
     },
     "execution_count": 266,
     "metadata": {},
     "output_type": "execute_result"
    }
   ],
   "source": [
    "data['card']"
   ]
  },
  {
   "cell_type": "code",
   "execution_count": 267,
   "id": "9db23169-d241-4b2d-9cbe-e6c7386a1930",
   "metadata": {},
   "outputs": [
    {
     "name": "stdout",
     "output_type": "stream",
     "text": [
      "\n",
      "Summary Statistics:\n",
      "                                date                       datetime  \\\n",
      "count                           1133                           1133   \n",
      "mean   2024-05-19 11:36:29.232127232  2024-05-20 02:38:39.053382912   \n",
      "min              2024-03-01 00:00:00     2024-03-01 10:15:50.520000   \n",
      "25%              2024-04-14 00:00:00  2024-04-14 10:55:27.406000128   \n",
      "50%              2024-05-23 00:00:00  2024-05-23 12:22:06.604999936   \n",
      "75%              2024-06-22 00:00:00  2024-06-22 08:39:50.272999936   \n",
      "max              2024-07-31 00:00:00     2024-07-31 21:55:16.570000   \n",
      "std                              NaN                            NaN   \n",
      "\n",
      "             money  \n",
      "count  1133.000000  \n",
      "mean     33.105808  \n",
      "min      18.120000  \n",
      "25%      28.900000  \n",
      "50%      32.820000  \n",
      "75%      37.720000  \n",
      "max      40.000000  \n",
      "std       5.035366  \n"
     ]
    }
   ],
   "source": [
    "# Print summary statistics\n",
    "print(\"\\nSummary Statistics:\")\n",
    "print(data.describe())"
   ]
  },
  {
   "cell_type": "code",
   "execution_count": 268,
   "id": "d089fa5e-69b8-4064-a290-c5bcd6b264f7",
   "metadata": {},
   "outputs": [],
   "source": [
    "# Add new features, e.g., Hour from DateTime\n",
    "data['hour'] = data['datetime'].dt.hour"
   ]
  },
  {
   "cell_type": "code",
   "execution_count": 269,
   "id": "a3429bc6-1469-4c27-af5c-bebae0f3e36f",
   "metadata": {},
   "outputs": [
    {
     "data": {
      "text/plain": [
       "0       10\n",
       "1       12\n",
       "2       12\n",
       "3       13\n",
       "4       13\n",
       "        ..\n",
       "1128    20\n",
       "1129    20\n",
       "1130    21\n",
       "1131    21\n",
       "1132    21\n",
       "Name: hour, Length: 1133, dtype: int32"
      ]
     },
     "execution_count": 269,
     "metadata": {},
     "output_type": "execute_result"
    }
   ],
   "source": [
    "data['hour']"
   ]
  },
  {
   "cell_type": "code",
   "execution_count": 270,
   "id": "4affaeac-f740-4fb8-8892-e45e7a518a15",
   "metadata": {},
   "outputs": [],
   "source": [
    "# Encode categorical columns using LabelEncoder\n",
    "encoder = LabelEncoder()\n",
    "data['cash_type'] = encoder.fit_transform(data['cash_type'])\n",
    "data['coffee_name'] = encoder.fit_transform(data['coffee_name'])"
   ]
  },
  {
   "cell_type": "code",
   "execution_count": 271,
   "id": "f54331c4-b073-4e3c-84c5-07948e797566",
   "metadata": {},
   "outputs": [
    {
     "data": {
      "text/plain": [
       "0       0\n",
       "1       0\n",
       "2       0\n",
       "3       0\n",
       "4       0\n",
       "       ..\n",
       "1128    0\n",
       "1129    0\n",
       "1130    0\n",
       "1131    0\n",
       "1132    0\n",
       "Name: cash_type, Length: 1133, dtype: int64"
      ]
     },
     "execution_count": 271,
     "metadata": {},
     "output_type": "execute_result"
    }
   ],
   "source": [
    "data['cash_type'] "
   ]
  },
  {
   "cell_type": "code",
   "execution_count": 272,
   "id": "e33f6909-18a4-4f5c-9a3f-66ca2ae97977",
   "metadata": {},
   "outputs": [],
   "source": [
    "# Define target and features\n",
    "X = data[['hour', 'cash_type', 'card', 'money']]\n",
    "y = data['coffee_name']"
   ]
  },
  {
   "cell_type": "code",
   "execution_count": 273,
   "id": "03a72237-d124-4f97-9a24-f90ad148e9a4",
   "metadata": {},
   "outputs": [
    {
     "data": {
      "text/html": [
       "<div>\n",
       "<style scoped>\n",
       "    .dataframe tbody tr th:only-of-type {\n",
       "        vertical-align: middle;\n",
       "    }\n",
       "\n",
       "    .dataframe tbody tr th {\n",
       "        vertical-align: top;\n",
       "    }\n",
       "\n",
       "    .dataframe thead th {\n",
       "        text-align: right;\n",
       "    }\n",
       "</style>\n",
       "<table border=\"1\" class=\"dataframe\">\n",
       "  <thead>\n",
       "    <tr style=\"text-align: right;\">\n",
       "      <th></th>\n",
       "      <th>hour</th>\n",
       "      <th>cash_type</th>\n",
       "      <th>card</th>\n",
       "      <th>money</th>\n",
       "    </tr>\n",
       "  </thead>\n",
       "  <tbody>\n",
       "    <tr>\n",
       "      <th>0</th>\n",
       "      <td>10</td>\n",
       "      <td>0</td>\n",
       "      <td>ANON-0000-0000-0001</td>\n",
       "      <td>38.70</td>\n",
       "    </tr>\n",
       "    <tr>\n",
       "      <th>1</th>\n",
       "      <td>12</td>\n",
       "      <td>0</td>\n",
       "      <td>ANON-0000-0000-0002</td>\n",
       "      <td>38.70</td>\n",
       "    </tr>\n",
       "    <tr>\n",
       "      <th>2</th>\n",
       "      <td>12</td>\n",
       "      <td>0</td>\n",
       "      <td>ANON-0000-0000-0002</td>\n",
       "      <td>38.70</td>\n",
       "    </tr>\n",
       "    <tr>\n",
       "      <th>3</th>\n",
       "      <td>13</td>\n",
       "      <td>0</td>\n",
       "      <td>ANON-0000-0000-0003</td>\n",
       "      <td>28.90</td>\n",
       "    </tr>\n",
       "    <tr>\n",
       "      <th>4</th>\n",
       "      <td>13</td>\n",
       "      <td>0</td>\n",
       "      <td>ANON-0000-0000-0004</td>\n",
       "      <td>38.70</td>\n",
       "    </tr>\n",
       "    <tr>\n",
       "      <th>...</th>\n",
       "      <td>...</td>\n",
       "      <td>...</td>\n",
       "      <td>...</td>\n",
       "      <td>...</td>\n",
       "    </tr>\n",
       "    <tr>\n",
       "      <th>1128</th>\n",
       "      <td>20</td>\n",
       "      <td>0</td>\n",
       "      <td>ANON-0000-0000-0443</td>\n",
       "      <td>23.02</td>\n",
       "    </tr>\n",
       "    <tr>\n",
       "      <th>1129</th>\n",
       "      <td>20</td>\n",
       "      <td>0</td>\n",
       "      <td>ANON-0000-0000-0040</td>\n",
       "      <td>27.92</td>\n",
       "    </tr>\n",
       "    <tr>\n",
       "      <th>1130</th>\n",
       "      <td>21</td>\n",
       "      <td>0</td>\n",
       "      <td>ANON-0000-0000-0444</td>\n",
       "      <td>32.82</td>\n",
       "    </tr>\n",
       "    <tr>\n",
       "      <th>1131</th>\n",
       "      <td>21</td>\n",
       "      <td>0</td>\n",
       "      <td>ANON-0000-0000-0445</td>\n",
       "      <td>32.82</td>\n",
       "    </tr>\n",
       "    <tr>\n",
       "      <th>1132</th>\n",
       "      <td>21</td>\n",
       "      <td>0</td>\n",
       "      <td>ANON-0000-0000-0446</td>\n",
       "      <td>32.82</td>\n",
       "    </tr>\n",
       "  </tbody>\n",
       "</table>\n",
       "<p>1133 rows × 4 columns</p>\n",
       "</div>"
      ],
      "text/plain": [
       "      hour  cash_type                 card  money\n",
       "0       10          0  ANON-0000-0000-0001  38.70\n",
       "1       12          0  ANON-0000-0000-0002  38.70\n",
       "2       12          0  ANON-0000-0000-0002  38.70\n",
       "3       13          0  ANON-0000-0000-0003  28.90\n",
       "4       13          0  ANON-0000-0000-0004  38.70\n",
       "...    ...        ...                  ...    ...\n",
       "1128    20          0  ANON-0000-0000-0443  23.02\n",
       "1129    20          0  ANON-0000-0000-0040  27.92\n",
       "1130    21          0  ANON-0000-0000-0444  32.82\n",
       "1131    21          0  ANON-0000-0000-0445  32.82\n",
       "1132    21          0  ANON-0000-0000-0446  32.82\n",
       "\n",
       "[1133 rows x 4 columns]"
      ]
     },
     "execution_count": 273,
     "metadata": {},
     "output_type": "execute_result"
    }
   ],
   "source": [
    "X"
   ]
  },
  {
   "cell_type": "code",
   "execution_count": 274,
   "id": "cd553134-5097-4229-b8a3-367997aa0139",
   "metadata": {},
   "outputs": [],
   "source": [
    "# Split data into training and testing sets\n",
    "X_train, X_test, y_train, y_test = train_test_split(X, y, test_size=0.2, random_state=42)"
   ]
  },
  {
   "cell_type": "code",
   "execution_count": 275,
   "id": "b5a8555d-8305-4f77-acde-de6f55ab62be",
   "metadata": {},
   "outputs": [
    {
     "data": {
      "text/plain": [
       "(      hour  cash_type                 card  money\n",
       " 12      10          1                    0  40.00\n",
       " 381     10          0  ANON-0000-0000-0001  37.72\n",
       " 717      8          0  ANON-0000-0000-0097  32.82\n",
       " 497     18          0  ANON-0000-0000-0175  37.72\n",
       " 964     10          0  ANON-0000-0000-0365  32.82\n",
       " ...    ...        ...                  ...    ...\n",
       " 1044     8          0  ANON-0000-0000-0406  32.82\n",
       " 1095    11          0  ANON-0000-0000-0426  18.12\n",
       " 1130    21          0  ANON-0000-0000-0444  32.82\n",
       " 860     11          0  ANON-0000-0000-0180  37.72\n",
       " 1126    20          0  ANON-0000-0000-0443  32.82\n",
       " \n",
       " [906 rows x 4 columns],\n",
       "      hour  cash_type                 card  money\n",
       " 783    11          0  ANON-0000-0000-0299  37.72\n",
       " 898    18          0  ANON-0000-0000-0339  37.72\n",
       " 413    10          0  ANON-0000-0000-0149  37.72\n",
       " 467     8          0  ANON-0000-0000-0012  27.92\n",
       " 745    15          0  ANON-0000-0000-0277  27.92\n",
       " ..    ...        ...                  ...    ...\n",
       " 66     13          0  ANON-0000-0000-0041  38.70\n",
       " 896    18          0  ANON-0000-0000-0012  23.02\n",
       " 67     13          0  ANON-0000-0000-0042  33.80\n",
       " 549    10          1                    0  39.00\n",
       " 436    13          0  ANON-0000-0000-0156  37.72\n",
       " \n",
       " [227 rows x 4 columns],\n",
       " 12      7\n",
       " 381     7\n",
       " 717     1\n",
       " 497     7\n",
       " 964     7\n",
       "        ..\n",
       " 1044    7\n",
       " 1095    5\n",
       " 1130    7\n",
       " 860     2\n",
       " 1126    7\n",
       " Name: coffee_name, Length: 906, dtype: int64,\n",
       " 783    2\n",
       " 898    2\n",
       " 413    2\n",
       " 467    0\n",
       " 745    4\n",
       "       ..\n",
       " 66     7\n",
       " 896    5\n",
       " 67     1\n",
       " 549    7\n",
       " 436    7\n",
       " Name: coffee_name, Length: 227, dtype: int64)"
      ]
     },
     "execution_count": 275,
     "metadata": {},
     "output_type": "execute_result"
    }
   ],
   "source": [
    "X_train, X_test, y_train, y_test"
   ]
  },
  {
   "cell_type": "code",
   "execution_count": 276,
   "id": "6338a9f9-43f4-4f90-8e17-ed87ae45413e",
   "metadata": {},
   "outputs": [
    {
     "name": "stdout",
     "output_type": "stream",
     "text": [
      "Shape of X: (89, 4)\n",
      "Shape of y: (89,)\n",
      "X_train: (71, 4) y_train: (71,)\n",
      "X_test: (18, 4) y_test: (18,)\n"
     ]
    }
   ],
   "source": [
    "import pandas as pd\n",
    "import numpy as np\n",
    "from sklearn.preprocessing import StandardScaler, LabelEncoder\n",
    "from sklearn.model_selection import train_test_split\n",
    "\n",
    "# Encode categorical features\n",
    "encoder = LabelEncoder()\n",
    "data['cash_type'] = encoder.fit_transform(data['cash_type'])\n",
    "data['coffe_name'] = encoder.fit_transform(data['coffee_name'])\n",
    "\n",
    "# Handle non-numeric values in numeric columns\n",
    "for col in ['hour', 'cash_type', 'card', 'money']:\n",
    "    data[col] = pd.to_numeric(data[col], errors='coerce')\n",
    "\n",
    "# Drop rows with missing values in X and y\n",
    "data_cleaned = data.dropna(subset=['hour', 'cash_type', 'card', 'money', 'coffee_name'])\n",
    "\n",
    "\n",
    "# Define features and target\n",
    "X = data_cleaned[['hour', 'cash_type', 'card', 'money']]\n",
    "y = data_cleaned['coffee_name']\n",
    "\n",
    "# Check shapes\n",
    "print(\"Shape of X:\", X.shape)\n",
    "print(\"Shape of y:\", y.shape)\n",
    "\n",
    "# Split data (example, assuming y is already defined)\n",
    "X_train, X_test, y_train, y_test = train_test_split(X, y, test_size=0.2, random_state=42)\n",
    "\n",
    "# Scale the numerical features\n",
    "scaler = StandardScaler()\n",
    "X_train = scaler.fit_transform(X_train)\n",
    "X_test = scaler.transform(X_test)\n",
    "\n",
    "# Check the shapes after splitting\n",
    "print(\"X_train:\", X_train.shape, \"y_train:\", y_train.shape)\n",
    "print(\"X_test:\", X_test.shape, \"y_test:\", y_test.shape)"
   ]
  },
  {
   "cell_type": "code",
   "execution_count": 277,
   "id": "8dcce366-8bb8-478c-988a-1920547ec929",
   "metadata": {},
   "outputs": [
    {
     "name": "stdout",
     "output_type": "stream",
     "text": [
      "\n",
      "Classification Report:\n",
      "              precision    recall  f1-score   support\n",
      "\n",
      "           0       0.60      0.60      0.60         5\n",
      "           1       1.00      1.00      1.00         1\n",
      "           2       0.00      0.00      0.00         2\n",
      "           3       0.00      0.00      0.00         1\n",
      "           4       0.33      0.33      0.33         3\n",
      "           5       1.00      1.00      1.00         1\n",
      "           6       0.00      0.00      0.00         1\n",
      "           7       0.60      0.75      0.67         4\n",
      "\n",
      "    accuracy                           0.50        18\n",
      "   macro avg       0.44      0.46      0.45        18\n",
      "weighted avg       0.47      0.50      0.48        18\n",
      "\n"
     ]
    },
    {
     "data": {
      "image/png": "[encoded data removed]",
      "text/plain": [
       "<Figure size 640x480 with 2 Axes>"
      ]
     },
     "metadata": {},
     "output_type": "display_data"
    }
   ],
   "source": [
    "from sklearn.ensemble import RandomForestClassifier\n",
    "from sklearn.metrics import classification_report, confusion_matrix, ConfusionMatrixDisplay\n",
    "import matplotlib.pyplot as plt\n",
    "import seaborn as sns\n",
    "\n",
    "# Train the Random Forest model\n",
    "model = RandomForestClassifier(random_state=42, class_weight=\"balanced\")\n",
    "model.fit(X_train, y_train)\n",
    "\n",
    "# Make predictions\n",
    "y_pred = model.predict(X_test)\n",
    "\n",
    "# Evaluate the model\n",
    "print(\"\\nClassification Report:\")\n",
    "print(classification_report(y_test, y_pred, zero_division=0))\n",
    "\n",
    "# Confusion Matrix\n",
    "cm = confusion_matrix(y_test, y_pred, labels=model.classes_)\n",
    "disp = ConfusionMatrixDisplay(confusion_matrix=cm, display_labels=model.classes_)\n",
    "disp.plot(cmap='viridis', xticks_rotation='vertical')\n",
    "plt.title(\"Confusion Matrix\")\n",
    "plt.show()"
   ]
  },
  {
   "cell_type": "code",
   "execution_count": 278,
   "id": "00d3c495-a220-4525-9620-f37613a5688d",
   "metadata": {},
   "outputs": [
    {
     "data": {
      "image/png": "[encoded data removed]",
      "text/plain": [
       "<Figure size 1000x600 with 1 Axes>"
      ]
     },
     "metadata": {},
     "output_type": "display_data"
    }
   ],
   "source": [
    "import matplotlib.pyplot as plt\n",
    "import seaborn as sns\n",
    "\n",
    "# Visualize feature importance\n",
    "feature_importances = model.feature_importances_\n",
    "feature_names = ['hour', 'cash_type', 'card', 'money']\n",
    "\n",
    "plt.figure(figsize=(10, 6))\n",
    "sns.barplot(x=feature_importances, y=feature_names)\n",
    "plt.title(\"Feature Importance\")\n",
    "plt.show()"
   ]
  },
  {
   "cell_type": "code",
   "execution_count": null,
   "id": "2fe25a4f-ff66-410a-9517-a3217e3444b1",
   "metadata": {},
   "outputs": [],
   "source": []
  }
 ],
 "metadata": {
  "kernelspec": {
   "display_name": "Python 3 (ipykernel)",
   "language": "python",
   "name": "python3"
  },
  "language_info": {
   "codemirror_mode": {
    "name": "ipython",
    "version": 3
   },
   "file_extension": ".py",
   "mimetype": "text/x-python",
   "name": "python",
   "nbconvert_exporter": "python",
   "pygments_lexer": "ipython3",
   "version": "3.12.4"
  }
 },
 "nbformat": 4,
 "nbformat_minor": 5
}
